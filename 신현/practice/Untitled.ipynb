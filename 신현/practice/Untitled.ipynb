{
 "cells": [
  {
   "cell_type": "code",
   "execution_count": 2,
   "id": "5dfc90b7",
   "metadata": {},
   "outputs": [
    {
     "name": "stdout",
     "output_type": "stream",
     "text": [
      "[10, 50, 30, 20, 40, 42, 12, 45, 62, 0, 4, 44, 10, 50, 30, 20, 40, 42, 12, 45, 62, 0, 4, 44]\n"
     ]
    }
   ],
   "source": [
    "arr = [10, 50, 30, 20, 40, 42, 12, 45, 62, 0, 4, 44]\n",
    "arr1 = [10, 50, 30, 20, 40, 42, 12, 45, 62, 0, 4, 44]\n",
    "temp = arr + arr1\n",
    "print(temp)"
   ]
  },
  {
   "cell_type": "code",
   "execution_count": 2,
   "id": "7137d7da",
   "metadata": {},
   "outputs": [],
   "source": [
    "def merge_sort(arr):\n",
    "    print(len(arr))\n",
    "    if(len(arr) == 2):\n",
    "        temp_max = max(arr)\n",
    "        temp_min = min(arr)\n",
    "        arr[0] = temp_max\n",
    "        arr[1] = temp_min\n",
    "        return arr\n",
    "    mid = len(arr)//2\n",
    "    left_list = merge_sort(arr[:mid])\n",
    "    right_list = merge_sort(arr[mid:])\n",
    "    \n",
    "    sorted_list = []\n",
    "    left_idx, right_idx = 0,0\n",
    "    while((left_idx < mid) and(right_idx < mid)):\n",
    "        if(left_list[left_idx] < right_list[right_idx]):\n",
    "            sorted_list.append(left_list[left_idx])\n",
    "            left_idx +=1\n",
    "        else:\n",
    "            sorted_list.append(right_list[right_idx])\n",
    "            right_idx +=1\n",
    "    return sorted_list\n",
    "            \n",
    "    "
   ]
  },
  {
   "cell_type": "code",
   "execution_count": null,
   "id": "7bbf0460",
   "metadata": {},
   "outputs": [],
   "source": [
    "merge_sort( arr)"
   ]
  },
  {
   "cell_type": "code",
   "execution_count": 3,
   "id": "84fcfd65",
   "metadata": {},
   "outputs": [
    {
     "data": {
      "text/plain": [
       "[]"
      ]
     },
     "execution_count": 3,
     "metadata": {},
     "output_type": "execute_result"
    }
   ],
   "source": [
    "testtest = [1]\n",
    "testtest[1:]"
   ]
  },
  {
   "cell_type": "code",
   "execution_count": null,
   "id": "047e382f",
   "metadata": {},
   "outputs": [],
   "source": []
  }
 ],
 "metadata": {
  "kernelspec": {
   "display_name": "Python 3 (ipykernel)",
   "language": "python",
   "name": "python3"
  },
  "language_info": {
   "codemirror_mode": {
    "name": "ipython",
    "version": 3
   },
   "file_extension": ".py",
   "mimetype": "text/x-python",
   "name": "python",
   "nbconvert_exporter": "python",
   "pygments_lexer": "ipython3",
   "version": "3.9.7"
  }
 },
 "nbformat": 4,
 "nbformat_minor": 5
}
